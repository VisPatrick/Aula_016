{
 "cells": [
  {
   "cell_type": "code",
   "execution_count": null,
   "metadata": {},
   "outputs": [],
   "source": [
    "# Correlação de Pearson é uma medida estatística que quantifica a intensidade e direção da relação linear entre duas variáveis. \n",
    "# Ela varia de -1 a 1, onde -1 indica uma correlação negativa perfeita, 1 indica uma correlação positiva perfeita e 0 indica que não há correlação linear entre as variáveis.\n",
    "# Se não há correlação não há relação linear entre as variáveis. assim não fazendo uma analise preditiva.\n",
    "# Linear perfeita +/- 1.0\n",
    "# Linerar forte +/- 0.70\n",
    "# Linear moderada +/- 0.50\n",
    "# Linear fraca +/- 0.30\n",
    "# Não linear 0.0"
   ]
  }
 ],
 "metadata": {
  "language_info": {
   "name": "python"
  },
  "orig_nbformat": 4
 },
 "nbformat": 4,
 "nbformat_minor": 2
}
